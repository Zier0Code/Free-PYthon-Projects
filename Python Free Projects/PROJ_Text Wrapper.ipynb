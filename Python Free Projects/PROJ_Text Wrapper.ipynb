{
 "cells": [
  {
   "cell_type": "code",
   "execution_count": 1,
   "id": "47cc1c99",
   "metadata": {},
   "outputs": [],
   "source": [
    "import textwrap"
   ]
  },
  {
   "cell_type": "code",
   "execution_count": 2,
   "id": "2941c824",
   "metadata": {},
   "outputs": [],
   "source": [
    "value = \"\"\"This Function wraps the input paragraph such that each line\n",
    "in the paragraph is at most width characters long. The wrao nethid\n",
    "returns a list of output lines. The returned list\n",
    "is empty if the wrapped output has no content.\"\"\""
   ]
  },
  {
   "cell_type": "code",
   "execution_count": 3,
   "id": "41ed682f",
   "metadata": {},
   "outputs": [
    {
     "name": "stdout",
     "output_type": "stream",
     "text": [
      "This Function wraps the input paragraph such that each line\n",
      "in the paragraph is at most width characters long. The wrao\n",
      "nethid returns a list of output lines. The returned list is\n",
      "empty if the wrapped output has no content.\n"
     ]
    }
   ],
   "source": [
    "wrapper = textwrap.TextWrapper(width=60)\n",
    "\n",
    "word_list = wrapper.wrap(text=value)\n",
    "\n",
    "for element in word_list:\n",
    "    print(element)"
   ]
  },
  {
   "cell_type": "code",
   "execution_count": null,
   "id": "4d2d9c3f",
   "metadata": {},
   "outputs": [],
   "source": []
  }
 ],
 "metadata": {
  "kernelspec": {
   "display_name": "Python 3 (ipykernel)",
   "language": "python",
   "name": "python3"
  },
  "language_info": {
   "codemirror_mode": {
    "name": "ipython",
    "version": 3
   },
   "file_extension": ".py",
   "mimetype": "text/x-python",
   "name": "python",
   "nbconvert_exporter": "python",
   "pygments_lexer": "ipython3",
   "version": "3.9.12"
  }
 },
 "nbformat": 4,
 "nbformat_minor": 5
}
