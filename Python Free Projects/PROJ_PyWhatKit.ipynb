{
 "cells": [
  {
   "cell_type": "code",
   "execution_count": 8,
   "id": "ed3d583b",
   "metadata": {},
   "outputs": [],
   "source": [
    "import pywhatkit as kit\n",
    "import cv2"
   ]
  },
  {
   "cell_type": "code",
   "execution_count": 1,
   "id": "e405d0ab",
   "metadata": {
    "collapsed": true
   },
   "outputs": [
    {
     "name": "stdout",
     "output_type": "stream",
     "text": [
      "Enter text you want to be handwritten: sad\n"
     ]
    },
    {
     "ename": "NameError",
     "evalue": "name 'kit' is not defined",
     "output_type": "error",
     "traceback": [
      "\u001b[1;31m---------------------------------------------------------------------------\u001b[0m",
      "\u001b[1;31mNameError\u001b[0m                                 Traceback (most recent call last)",
      "Input \u001b[1;32mIn [1]\u001b[0m, in \u001b[0;36m<cell line: 2>\u001b[1;34m()\u001b[0m\n\u001b[0;32m      1\u001b[0m Hw \u001b[38;5;241m=\u001b[39m \u001b[38;5;28minput\u001b[39m(\u001b[38;5;124m\"\u001b[39m\u001b[38;5;124mEnter text you want to be handwritten: \u001b[39m\u001b[38;5;124m\"\u001b[39m)\n\u001b[1;32m----> 2\u001b[0m \u001b[43mkit\u001b[49m\u001b[38;5;241m.\u001b[39mtext_to_handwriting(Hw, save_to \u001b[38;5;241m=\u001b[39m \u001b[38;5;124m\"\u001b[39m\u001b[38;5;124mpythoncoding.png\u001b[39m\u001b[38;5;124m\"\u001b[39m)\n\u001b[0;32m      3\u001b[0m img \u001b[38;5;241m=\u001b[39m cv2\u001b[38;5;241m.\u001b[39mimread(\u001b[38;5;124m\"\u001b[39m\u001b[38;5;124mpythoncoding.png\u001b[39m\u001b[38;5;124m\"\u001b[39m)\n\u001b[0;32m      4\u001b[0m cv2\u001b[38;5;241m.\u001b[39mimshow(\u001b[38;5;124m\"\u001b[39m\u001b[38;5;124mPython Coding\u001b[39m\u001b[38;5;124m\"\u001b[39m, img)\n",
      "\u001b[1;31mNameError\u001b[0m: name 'kit' is not defined"
     ]
    }
   ],
   "source": [
    "Hw = input(\"Enter text you want to be handwritten: \")\n",
    "kit.text_to_handwriting(Hw, save_to = \"pythoncoding.png\")\n",
    "img = cv2.imread(\"pythoncoding.png\")\n",
    "cv2.imshow(\"Python Coding\", img)\n",
    "cv2.waitkey(0)\n",
    "cv2.destroyAllWindows()"
   ]
  },
  {
   "cell_type": "code",
   "execution_count": null,
   "id": "80e2cc7d",
   "metadata": {},
   "outputs": [
    {
     "name": "stdout",
     "output_type": "stream",
     "text": [
      "In 49558 Seconds WhatsApp will open and after 15 Seconds Message will be Delivered!\n"
     ]
    }
   ],
   "source": [
    "\n",
    " \n",
    "# using Exception Handling to avoid\n",
    "# unprecedented errors\n",
    "try:\n",
    "   \n",
    "  # sending message to receiver\n",
    "  # using pywhatkit\n",
    "  kit.sendwhatmsg(\"+639569513721\",\n",
    "                        \"Hello from Angelo\",\n",
    "                        22, 28)\n",
    "  print(\"Successfully Sent!\")\n",
    " \n",
    "except:\n",
    "   \n",
    "  # handling exception\n",
    "  # and printing error message\n",
    "  print(\"An Unexpected Error!\")"
   ]
  },
  {
   "cell_type": "code",
   "execution_count": 4,
   "id": "a3e6dd9d",
   "metadata": {},
   "outputs": [
    {
     "name": "stdout",
     "output_type": "stream",
     "text": [
      "Playing...\n"
     ]
    }
   ],
   "source": [
    "\n",
    "# using Exception Handling\n",
    "# to avoid exceptions\n",
    "try:\n",
    "   \n",
    "  # it plays a random YouTube\n",
    "  # video of GeeksforGeeks\n",
    "  kit.playonyt(\"https://www.youtube.com/watch?v=YJbhdhgSdu4\")\n",
    "  print(\"Playing...\")\n",
    " \n",
    "except:\n",
    "\n",
    "  # printing the error message\n",
    "  print(\"Network Error Occurred\")"
   ]
  },
  {
   "cell_type": "code",
   "execution_count": 22,
   "id": "586150b4",
   "metadata": {},
   "outputs": [
    {
     "name": "stdout",
     "output_type": "stream",
     "text": [
      "Searching...\n"
     ]
    }
   ],
   "source": [
    "try:\n",
    "  # it will perform the Google search\n",
    "  kit.search(\"Angelo Avila\")\n",
    "  print(\"Searching...\")\n",
    " \n",
    "except:\n",
    "  # Printing Error Message\n",
    "  print(\"An unknown error occurred\")"
   ]
  },
  {
   "cell_type": "code",
   "execution_count": 27,
   "id": "f98fd4d1",
   "metadata": {
    "scrolled": true
   },
   "outputs": [
    {
     "name": "stdout",
     "output_type": "stream",
     "text": [
      "The second season of The Voice of the Philippines was a reality singing competition in ABS-CBN which started airing on October 26, 2014. apl.de.ap, Lea Salonga, Sarah Geronimo, and Bamboo Mañalac returned as coaches for this season.\n",
      "\n",
      "Successfully Searched\n"
     ]
    }
   ],
   "source": [
    "try:\n",
    "  # it will perform the Google search\n",
    "  kit.info(\"Angelo Avila\",lines=2)\n",
    "  print(\"\\nSuccessfully Searched\")\n",
    " \n",
    "except:\n",
    "  # Printing Error Message\n",
    "  print(\"An unknown error occurred\")"
   ]
  }
 ],
 "metadata": {
  "kernelspec": {
   "display_name": "Python 3 (ipykernel)",
   "language": "python",
   "name": "python3"
  },
  "language_info": {
   "codemirror_mode": {
    "name": "ipython",
    "version": 3
   },
   "file_extension": ".py",
   "mimetype": "text/x-python",
   "name": "python",
   "nbconvert_exporter": "python",
   "pygments_lexer": "ipython3",
   "version": "3.9.12"
  }
 },
 "nbformat": 4,
 "nbformat_minor": 5
}
