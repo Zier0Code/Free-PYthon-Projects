{
 "cells": [
  {
   "cell_type": "code",
   "execution_count": 1,
   "id": "c16feb9d",
   "metadata": {},
   "outputs": [],
   "source": [
    "import random"
   ]
  },
  {
   "cell_type": "code",
   "execution_count": 16,
   "id": "214eecb9",
   "metadata": {},
   "outputs": [
    {
     "name": "stdout",
     "output_type": "stream",
     "text": [
      "The [4] of ['Hearts']\n"
     ]
    }
   ],
   "source": [
    "cards = [\"Diamonds\", \"Spades\", \"Clubs\", \"Hearts\"]\n",
    "ranks = [2, 3, 4, 5, 6, 7, 8 ,9 ,10,\n",
    "        \"Jack\", \"Queen\", \"King\"]\n",
    "def pick_a_card():\n",
    "    card = random.choices(cards)\n",
    "    rank = random.choices(ranks)\n",
    "    return (f\"The {rank} of {card}\")\n",
    "print(pick_a_card())\n"
   ]
  },
  {
   "cell_type": "code",
   "execution_count": null,
   "id": "ca2f677c",
   "metadata": {},
   "outputs": [],
   "source": []
  }
 ],
 "metadata": {
  "kernelspec": {
   "display_name": "Python 3 (ipykernel)",
   "language": "python",
   "name": "python3"
  },
  "language_info": {
   "codemirror_mode": {
    "name": "ipython",
    "version": 3
   },
   "file_extension": ".py",
   "mimetype": "text/x-python",
   "name": "python",
   "nbconvert_exporter": "python",
   "pygments_lexer": "ipython3",
   "version": "3.9.12"
  }
 },
 "nbformat": 4,
 "nbformat_minor": 5
}
