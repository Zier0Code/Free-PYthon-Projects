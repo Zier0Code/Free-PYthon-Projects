{
 "cells": [
  {
   "cell_type": "code",
   "execution_count": 2,
   "id": "843b7534",
   "metadata": {},
   "outputs": [],
   "source": [
    "from forex_python.converter import CurrencyRates"
   ]
  },
  {
   "cell_type": "code",
   "execution_count": 3,
   "id": "ab0688db",
   "metadata": {},
   "outputs": [],
   "source": [
    "c = CurrencyRates()"
   ]
  },
  {
   "cell_type": "code",
   "execution_count": 15,
   "id": "b2b514ad",
   "metadata": {},
   "outputs": [
    {
     "name": "stdout",
     "output_type": "stream",
     "text": [
      "Enter the Amount: 500\n",
      "From Currency: EUR\n",
      "To Currency: usd\n",
      "EUR  To  USD 500\n",
      "529.35\n"
     ]
    }
   ],
   "source": [
    "amount = int(input('Enter the Amount: '))\n",
    "from_currency = input('From Currency: ').upper()\n",
    "to_currency = input (\"To Currency: \").upper()\n",
    "print(from_currency, \" To \", to_currency, amount)\n",
    "result=c.convert(from_currency, to_currency, amount)\n",
    "print(result)"
   ]
  },
  {
   "cell_type": "markdown",
   "id": "ad52666a",
   "metadata": {},
   "source": [
    "{\"date\":\"2022-12-05\",\"base\":\"EUR\",\"rates\":{\"USD\":1.0587,\"JPY\":143.07,\"BGN\":1.9558,\"CZK\":24.351,\"DKK\":7.4369,\"GBP\":0.86085,\"HUF\":412.13,\"PLN\":4.695,\"RON\":4.9215,\"SEK\":10.8931,\"CHF\":0.9893,\"ISK\":148.9,\"NOK\":10.3366,\"HRK\":7.551,\"TRY\":19.7326,\"AUD\":1.5542,\"BRL\":5.5491,\"CAD\":1.4198,\"CNY\":7.3573,\"HKD\":8.2236,\"IDR\":16332.36,\"INR\":86.5249,\"KRW\":1370.87,\"MXN\":20.7295,\"MYR\":4.6255,\"NZD\":1.6498,\"PHP\":59.245,\"SGD\":1.4271,\"THB\":36.732,\"ZAR\":18.2038}}"
   ]
  },
  {
   "cell_type": "code",
   "execution_count": null,
   "id": "9d75feb1",
   "metadata": {},
   "outputs": [],
   "source": []
  }
 ],
 "metadata": {
  "kernelspec": {
   "display_name": "Python 3 (ipykernel)",
   "language": "python",
   "name": "python3"
  },
  "language_info": {
   "codemirror_mode": {
    "name": "ipython",
    "version": 3
   },
   "file_extension": ".py",
   "mimetype": "text/x-python",
   "name": "python",
   "nbconvert_exporter": "python",
   "pygments_lexer": "ipython3",
   "version": "3.9.12"
  }
 },
 "nbformat": 4,
 "nbformat_minor": 5
}
