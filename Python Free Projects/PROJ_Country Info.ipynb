{
 "cells": [
  {
   "cell_type": "code",
   "execution_count": 2,
   "id": "98d5403e",
   "metadata": {},
   "outputs": [],
   "source": [
    "from countryinfo import CountryInfo"
   ]
  },
  {
   "cell_type": "code",
   "execution_count": 17,
   "id": "78f5912a",
   "metadata": {},
   "outputs": [
    {
     "name": "stdout",
     "output_type": "stream",
     "text": [
      "Enter your Country : ph\n",
      "Capital is :  Manila\n",
      "Currencies is :  ['PHP']\n",
      "Language is :  ['en']\n",
      "Borders are :  []\n",
      "Other names :  ['PH', 'Republic of the Philippines', 'Repúblika ng Pilipinas']\n"
     ]
    }
   ],
   "source": [
    "count=input(\"Enter your Country : \")\n",
    "country = CountryInfo(count)\n",
    "print(\"Capital is : \", country.capital())\n",
    "print(\"Currencies is : \", country.currencies())\n",
    "print('Language is : ',country.languages())\n",
    "print(\"Borders are : \",country.borders())\n",
    "print(\"Other names : \", country.alt_spellings())"
   ]
  },
  {
   "cell_type": "code",
   "execution_count": null,
   "id": "53dcc186",
   "metadata": {},
   "outputs": [],
   "source": []
  }
 ],
 "metadata": {
  "kernelspec": {
   "display_name": "Python 3 (ipykernel)",
   "language": "python",
   "name": "python3"
  },
  "language_info": {
   "codemirror_mode": {
    "name": "ipython",
    "version": 3
   },
   "file_extension": ".py",
   "mimetype": "text/x-python",
   "name": "python",
   "nbconvert_exporter": "python",
   "pygments_lexer": "ipython3",
   "version": "3.9.12"
  }
 },
 "nbformat": 4,
 "nbformat_minor": 5
}
