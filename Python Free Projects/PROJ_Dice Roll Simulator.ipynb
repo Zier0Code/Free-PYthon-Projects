{
 "cells": [
  {
   "cell_type": "code",
   "execution_count": 1,
   "id": "eda239af",
   "metadata": {},
   "outputs": [],
   "source": [
    "import random"
   ]
  },
  {
   "cell_type": "code",
   "execution_count": null,
   "id": "66418058",
   "metadata": {},
   "outputs": [
    {
     "name": "stdout",
     "output_type": "stream",
     "text": [
      "Rolling the dices.....\n",
      "The Values are : \n",
      "1\n",
      "Roll the dices Again : y\n",
      "Rolling the dices.....\n",
      "The Values are : \n",
      "5\n",
      "Roll the dices Again : y\n",
      "Rolling the dices.....\n",
      "The Values are : \n",
      "5\n",
      "Roll the dices Again : y\n",
      "Rolling the dices.....\n",
      "The Values are : \n",
      "6\n"
     ]
    }
   ],
   "source": [
    "min_val = 1\n",
    "max_val = 6\n",
    "\n",
    "roll_again='yes'\n",
    "\n",
    "while roll_again ==\"yes\" or roll_again == \"y\":\n",
    "    print(\"Rolling the dices.....\")\n",
    "    print(\"The Values are : \")\n",
    "    \n",
    "    print(random.randint(min_val, max_val))\n",
    "    \n",
    "    \n",
    "    roll_again = input(\"Roll the dices Again : \")\n",
    "    "
   ]
  },
  {
   "cell_type": "code",
   "execution_count": null,
   "id": "a3310a7d",
   "metadata": {},
   "outputs": [],
   "source": []
  }
 ],
 "metadata": {
  "kernelspec": {
   "display_name": "Python 3 (ipykernel)",
   "language": "python",
   "name": "python3"
  },
  "language_info": {
   "codemirror_mode": {
    "name": "ipython",
    "version": 3
   },
   "file_extension": ".py",
   "mimetype": "text/x-python",
   "name": "python",
   "nbconvert_exporter": "python",
   "pygments_lexer": "ipython3",
   "version": "3.9.12"
  }
 },
 "nbformat": 4,
 "nbformat_minor": 5
}
