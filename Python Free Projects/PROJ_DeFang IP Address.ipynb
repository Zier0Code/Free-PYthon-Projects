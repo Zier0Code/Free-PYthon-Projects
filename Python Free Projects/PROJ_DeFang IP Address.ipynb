{
 "cells": [
  {
   "cell_type": "code",
   "execution_count": 6,
   "id": "99a618d1",
   "metadata": {},
   "outputs": [],
   "source": [
    "def ip_address(address):\n",
    "    new_address = \"\"\n",
    "    split_address=address.split(\".\")\n",
    "    separator = \"[.]\"\n",
    "    new_address = separator.join(split_address)\n",
    "    return new_address"
   ]
  },
  {
   "cell_type": "code",
   "execution_count": 5,
   "id": "f6918199",
   "metadata": {},
   "outputs": [
    {
     "name": "stdout",
     "output_type": "stream",
     "text": [
      "Enter Your IP Address: :198.258.456\n",
      "198[.]258[.]456\n"
     ]
    }
   ],
   "source": [
    "IPad = input(\"Enter Your IP Address: :\")\n",
    "ipaddress=ip_address(IPad)\n",
    "print(ipaddress)"
   ]
  },
  {
   "cell_type": "code",
   "execution_count": 7,
   "id": "6b5495d7",
   "metadata": {},
   "outputs": [
    {
     "name": "stdout",
     "output_type": "stream",
     "text": [
      "Enter your IP Address192.258.456\n",
      "192[.]258[.]456\n"
     ]
    }
   ],
   "source": [
    "Computer = input(\"Enter your IP Address\")\n",
    "comp_ip =ip_address(Computer)\n",
    "print(comp_ip)"
   ]
  },
  {
   "cell_type": "code",
   "execution_count": null,
   "id": "582793c4",
   "metadata": {},
   "outputs": [],
   "source": []
  }
 ],
 "metadata": {
  "kernelspec": {
   "display_name": "Python 3 (ipykernel)",
   "language": "python",
   "name": "python3"
  },
  "language_info": {
   "codemirror_mode": {
    "name": "ipython",
    "version": 3
   },
   "file_extension": ".py",
   "mimetype": "text/x-python",
   "name": "python",
   "nbconvert_exporter": "python",
   "pygments_lexer": "ipython3",
   "version": "3.9.12"
  }
 },
 "nbformat": 4,
 "nbformat_minor": 5
}
