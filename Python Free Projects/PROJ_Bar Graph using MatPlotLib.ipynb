{
 "cells": [
  {
   "cell_type": "code",
   "execution_count": 3,
   "id": "ac43f772",
   "metadata": {},
   "outputs": [],
   "source": [
    "import matplotlib.pyplot as pyplot"
   ]
  },
  {
   "cell_type": "code",
   "execution_count": 6,
   "id": "00347347",
   "metadata": {},
   "outputs": [
    {
     "data": {
      "image/png": "[encoded data removed]",
      "text/plain": [
       "<Figure size 432x288 with 1 Axes>"
      ]
     },
     "metadata": {
      "needs_background": "light"
     },
     "output_type": "display_data"
    }
   ],
   "source": [
    "# Data Set Up\n",
    "\n",
    "labels = ('Python', 'Scala', 'C#', 'Java', 'PHP')\n",
    "index = (1, 2, 3, 4, 5) #provide locations on X axis\n",
    "sizes = [45, 10 ,15 ,30 ,22]\n",
    "\n",
    "# Set up Bar Chart\n",
    "\n",
    "pyplot.bar(index,sizes,tick_label=labels)\n",
    "\n",
    "# Configure the Lay out\n",
    "\n",
    "pyplot.ylabel('Usage')\n",
    "pyplot.xlabel('Programming Languages')\n",
    "\n",
    "# Display the Chart\n",
    "\n",
    "pyplot.show()"
   ]
  }
 ],
 "metadata": {
  "kernelspec": {
   "display_name": "Python 3 (ipykernel)",
   "language": "python",
   "name": "python3"
  },
  "language_info": {
   "codemirror_mode": {
    "name": "ipython",
    "version": 3
   },
   "file_extension": ".py",
   "mimetype": "text/x-python",
   "name": "python",
   "nbconvert_exporter": "python",
   "pygments_lexer": "ipython3",
   "version": "3.9.12"
  }
 },
 "nbformat": 4,
 "nbformat_minor": 5
}
