{
 "cells": [
  {
   "cell_type": "code",
   "execution_count": 1,
   "id": "4a8f9061",
   "metadata": {},
   "outputs": [],
   "source": [
    "import getpass"
   ]
  },
  {
   "cell_type": "code",
   "execution_count": 5,
   "id": "439da34d",
   "metadata": {},
   "outputs": [
    {
     "name": "stdout",
     "output_type": "stream",
     "text": [
      "Enter Your Name: Angelo\n",
      "Enter Your Password: ········\n",
      "Enter Your Password Again: ········\n",
      "Enter Your Password Again: ········\n",
      "verified\n"
     ]
    }
   ],
   "source": [
    "database = {'cicoding':'976729', 'pythonc1coding':'2502', 'Angelo' : 'hehe123'}\n",
    "username=input(\"Enter Your Name: \")\n",
    "password =getpass.getpass(\"Enter Your Password: \")\n",
    "\n",
    "for i in database.keys():\n",
    "    if username == i :\n",
    "        while password != database.get(i):\n",
    "            password = getpass.getpass(\"Enter Your Password Again: \")\n",
    "        break\n",
    "print(\"verified\")"
   ]
  },
  {
   "cell_type": "markdown",
   "id": "d022e941",
   "metadata": {},
   "source": [
    "No Prompt provided by the caller "
   ]
  },
  {
   "cell_type": "code",
   "execution_count": 7,
   "id": "1862c456",
   "metadata": {},
   "outputs": [
    {
     "name": "stdout",
     "output_type": "stream",
     "text": [
      "Enter your pass········\n",
      "Password entered: ['456789']\n"
     ]
    }
   ],
   "source": [
    "p_ass=[]\n",
    "try:\n",
    "    p = getpass.getpass(\"Enter your pass\")\n",
    "    p_ass.append(p)\n",
    "except Exception as error:\n",
    "    print('ERROR', error)\n",
    "else:\n",
    "    print('Password entered:', p_ass)"
   ]
  },
  {
   "cell_type": "markdown",
   "id": "2d5e64d1",
   "metadata": {},
   "source": [
    "Security Question ??"
   ]
  },
  {
   "cell_type": "code",
   "execution_count": 10,
   "id": "3e2ef986",
   "metadata": {},
   "outputs": [
    {
     "name": "stdout",
     "output_type": "stream",
     "text": [
      "Your favorite flower? ········\n",
      "The answer entered by you is incorrect..!!!\n",
      "Try Again········\n",
      "The answer entered by you is incorrect..!!!\n",
      "Try Again········\n",
      "The answer entered by you is incorrect..!!!\n",
      "Try Again········\n",
      "The answer entered by you is incorrect..!!!\n",
      "Try Again········\n",
      "Welcome..!!!\n"
     ]
    }
   ],
   "source": [
    "q = getpass.getpass(prompt='Your favorite flower? ')\n",
    "\n",
    "while True:\n",
    "    if q.lower() == 'rose':\n",
    "        print('Welcome..!!!')\n",
    "        break;\n",
    "    else:\n",
    "        print('The answer entered by you is incorrect..!!!')\n",
    "        q = getpass.getpass(prompt='Try Again')"
   ]
  },
  {
   "cell_type": "markdown",
   "id": "1118991f",
   "metadata": {},
   "source": [
    "Using getuser() function for displaying username"
   ]
  },
  {
   "cell_type": "code",
   "execution_count": 20,
   "id": "64c56a91",
   "metadata": {},
   "outputs": [
    {
     "name": "stdout",
     "output_type": "stream",
     "text": [
      "User Name : Avila \n",
      "Password : ········\n",
      "The password you entered is incorrect.\n",
      "User Name : Avila \n",
      "Password : ········\n",
      "The password you entered is incorrect.\n",
      "User Name : Avila \n",
      "Password : ········\n",
      "The password you entered is incorrect.\n",
      "User Name : Avila \n",
      "Password : ········\n",
      "Welcome!!!\n"
     ]
    }
   ],
   "source": [
    "user = getpass.getuser()\n",
    " \n",
    "while True:\n",
    "    pwd = getpass.getpass(\"User Name : %s \\nPassword : \" % user)\n",
    "\n",
    "    if pwd == 'angelo':\n",
    "        print (\"Welcome!!!\")\n",
    "        break\n",
    "    else:\n",
    "        print (\"The password you entered is incorrect.\")"
   ]
  }
 ],
 "metadata": {
  "kernelspec": {
   "display_name": "Python 3 (ipykernel)",
   "language": "python",
   "name": "python3"
  },
  "language_info": {
   "codemirror_mode": {
    "name": "ipython",
    "version": 3
   },
   "file_extension": ".py",
   "mimetype": "text/x-python",
   "name": "python",
   "nbconvert_exporter": "python",
   "pygments_lexer": "ipython3",
   "version": "3.9.12"
  }
 },
 "nbformat": 4,
 "nbformat_minor": 5
}
