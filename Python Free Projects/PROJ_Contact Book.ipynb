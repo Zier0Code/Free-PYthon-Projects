{
 "cells": [
  {
   "cell_type": "code",
   "execution_count": 2,
   "id": "0ee7ca36",
   "metadata": {},
   "outputs": [
    {
     "name": "stdout",
     "output_type": "stream",
     "text": [
      "Enter no. of contact you want to save : 2\n",
      "Enter Your Name : vivian\n",
      "Phone Number : 09260746214\n",
      "Enter Your Name : angelo\n",
      "Phone Number : 09569513721\n",
      "\n",
      "Name\t\tPhone Number\n",
      "\n",
      "vivian\t\t09260746214\n",
      "angelo\t\t09569513721\n",
      "\n",
      "Enter Search term: hello\n",
      "Search Result\n",
      "Name Not Found\n"
     ]
    }
   ],
   "source": [
    "names = []\n",
    "phone_numbers = []\n",
    "\n",
    "num = int(input(\"Enter no. of contact you want to save : \"))\n",
    "\n",
    "for i in range(num):\n",
    "    name = input(\"Enter Your Name : \")\n",
    "    phone_number = input(\"Phone Number : \")\n",
    "    names.append(name)\n",
    "    phone_numbers.append(phone_number)\n",
    "print(\"\\nName\\t\\tPhone Number\\n\") \n",
    "for i in range(num):\n",
    "    print(\"{}\\t\\t{}\".format(names[i], phone_numbers[i]))\n",
    "search_term = input(\"\\nEnter Search term: \")\n",
    "print(\"Search Result\")\n",
    "\n",
    "if search_term in names:\n",
    "    index = names.index(search_term)\n",
    "    phone_number = phone_numbers[index]\n",
    "    print(\"Name: {}, Phone Number: {}\".format(search_term, phone_number))\n",
    "    \n",
    "else:\n",
    "    print(\"Name Not Found\")"
   ]
  },
  {
   "cell_type": "code",
   "execution_count": null,
   "id": "8a00a436",
   "metadata": {},
   "outputs": [],
   "source": []
  }
 ],
 "metadata": {
  "kernelspec": {
   "display_name": "Python 3 (ipykernel)",
   "language": "python",
   "name": "python3"
  },
  "language_info": {
   "codemirror_mode": {
    "name": "ipython",
    "version": 3
   },
   "file_extension": ".py",
   "mimetype": "text/x-python",
   "name": "python",
   "nbconvert_exporter": "python",
   "pygments_lexer": "ipython3",
   "version": "3.9.12"
  }
 },
 "nbformat": 4,
 "nbformat_minor": 5
}
