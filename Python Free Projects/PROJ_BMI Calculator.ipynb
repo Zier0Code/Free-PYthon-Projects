{
 "cells": [
  {
   "cell_type": "code",
   "execution_count": 5,
   "id": "3f519ebc",
   "metadata": {},
   "outputs": [
    {
     "name": "stdout",
     "output_type": "stream",
     "text": [
      "Enter your Height(cm) : 178\n",
      "Enter your Weight(kg) : 65\n",
      "Your Body Mass Index is :  20.515086478979924\n",
      "Normal\n"
     ]
    }
   ],
   "source": [
    "height = float(input(\"Enter your Height(cm) : \"))\n",
    "weight = float(input(\"Enter your Weight(kg) : \"))\n",
    "\n",
    "height = height / 100\n",
    "BMI = weight / (height*height)\n",
    "print(\"Your Body Mass Index is : \", BMI)\n",
    "if(BMI > 0):\n",
    "    if(BMI <= 16):\n",
    "         print(\"Malnourished\")\n",
    "    elif(BMI <=18.5):\n",
    "         print(\"Underweight\")\n",
    "    elif(BMI <=25):\n",
    "        print(\"Normal\")\n",
    "    elif(BMI <= 30):\n",
    "        print(\"overweight\")\n",
    "    else: print(\"Obese\")\n",
    "else: (\"enter valid details\")"
   ]
  }
 ],
 "metadata": {
  "kernelspec": {
   "display_name": "Python 3 (ipykernel)",
   "language": "python",
   "name": "python3"
  },
  "language_info": {
   "codemirror_mode": {
    "name": "ipython",
    "version": 3
   },
   "file_extension": ".py",
   "mimetype": "text/x-python",
   "name": "python",
   "nbconvert_exporter": "python",
   "pygments_lexer": "ipython3",
   "version": "3.9.12"
  }
 },
 "nbformat": 4,
 "nbformat_minor": 5
}
