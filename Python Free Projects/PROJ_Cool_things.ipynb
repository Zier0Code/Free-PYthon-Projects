{
 "cells": [
  {
   "cell_type": "markdown",
   "id": "2766fd0d",
   "metadata": {},
   "source": [
    "Print Sunflower"
   ]
  },
  {
   "cell_type": "code",
   "execution_count": 2,
   "id": "b4adfa13",
   "metadata": {},
   "outputs": [
    {
     "name": "stdout",
     "output_type": "stream",
     "text": [
      "         🌻          \n"
     ]
    }
   ],
   "source": [
    "print(f'{127803:^20c}')"
   ]
  },
  {
   "cell_type": "markdown",
   "id": "e325978b",
   "metadata": {},
   "source": [
    "Find 32bit or 64bit System"
   ]
  },
  {
   "cell_type": "code",
   "execution_count": 4,
   "id": "ace1bedd",
   "metadata": {},
   "outputs": [
    {
     "name": "stdout",
     "output_type": "stream",
     "text": [
      "64bit\n"
     ]
    }
   ],
   "source": [
    "from platform import architecture\n",
    "\n",
    "print(architecture()[0])"
   ]
  },
  {
   "cell_type": "markdown",
   "id": "3feb7616",
   "metadata": {},
   "source": [
    "Pattern"
   ]
  },
  {
   "cell_type": "code",
   "execution_count": 8,
   "id": "5e7c8264",
   "metadata": {
    "collapsed": true
   },
   "outputs": [
    {
     "name": "stdout",
     "output_type": "stream",
     "text": [
      "1\n",
      "12\n",
      "123\n",
      "1234\n",
      "12345\n",
      "123456\n",
      "1234567\n",
      "12345678\n",
      "123456789\n",
      "12345678910\n",
      "1234567891011\n",
      "123456789101112\n",
      "12345678910111213\n",
      "1234567891011121314\n",
      "123456789101112131415\n",
      "12345678910111213141516\n",
      "1234567891011121314151617\n",
      "123456789101112131415161718\n",
      "12345678910111213141516171819\n",
      "1234567891011121314151617181920\n",
      "123456789101112131415161718192021\n",
      "12345678910111213141516171819202122\n",
      "1234567891011121314151617181920212223\n",
      "123456789101112131415161718192021222324\n",
      "12345678910111213141516171819202122232425\n",
      "1234567891011121314151617181920212223242526\n",
      "123456789101112131415161718192021222324252627\n",
      "12345678910111213141516171819202122232425262728\n",
      "1234567891011121314151617181920212223242526272829\n",
      "123456789101112131415161718192021222324252627282930\n",
      "12345678910111213141516171819202122232425262728293031\n",
      "1234567891011121314151617181920212223242526272829303132\n",
      "123456789101112131415161718192021222324252627282930313233\n",
      "12345678910111213141516171819202122232425262728293031323334\n",
      "1234567891011121314151617181920212223242526272829303132333435\n",
      "123456789101112131415161718192021222324252627282930313233343536\n",
      "12345678910111213141516171819202122232425262728293031323334353637\n",
      "1234567891011121314151617181920212223242526272829303132333435363738\n",
      "123456789101112131415161718192021222324252627282930313233343536373839\n",
      "12345678910111213141516171819202122232425262728293031323334353637383940\n",
      "1234567891011121314151617181920212223242526272829303132333435363738394041\n",
      "123456789101112131415161718192021222324252627282930313233343536373839404142\n",
      "12345678910111213141516171819202122232425262728293031323334353637383940414243\n",
      "1234567891011121314151617181920212223242526272829303132333435363738394041424344\n",
      "123456789101112131415161718192021222324252627282930313233343536373839404142434445\n",
      "12345678910111213141516171819202122232425262728293031323334353637383940414243444546\n",
      "1234567891011121314151617181920212223242526272829303132333435363738394041424344454647\n",
      "123456789101112131415161718192021222324252627282930313233343536373839404142434445464748\n",
      "12345678910111213141516171819202122232425262728293031323334353637383940414243444546474849\n",
      "1234567891011121314151617181920212223242526272829303132333435363738394041424344454647484950\n",
      "123456789101112131415161718192021222324252627282930313233343536373839404142434445464748495051\n",
      "12345678910111213141516171819202122232425262728293031323334353637383940414243444546474849505152\n",
      "1234567891011121314151617181920212223242526272829303132333435363738394041424344454647484950515253\n",
      "123456789101112131415161718192021222324252627282930313233343536373839404142434445464748495051525354\n"
     ]
    }
   ],
   "source": [
    "for i in range(1, 55):\n",
    "    for j in range(1, i+1):\n",
    "        print(j,end= '')\n",
    "    print()"
   ]
  },
  {
   "cell_type": "markdown",
   "id": "972a6fe3",
   "metadata": {},
   "source": [
    "Ternary Conditional Operator"
   ]
  },
  {
   "cell_type": "code",
   "execution_count": 9,
   "id": "195c24f6",
   "metadata": {},
   "outputs": [
    {
     "name": "stdout",
     "output_type": "stream",
     "text": [
      "Pass\n"
     ]
    }
   ],
   "source": [
    "scored=46\n",
    "result = \"Pass\" if scored > 35 else \"Fail\"\n",
    "print(result)"
   ]
  },
  {
   "cell_type": "markdown",
   "id": "30dbf7bd",
   "metadata": {},
   "source": [
    "List Methods Row & Col Format"
   ]
  },
  {
   "cell_type": "code",
   "execution_count": 21,
   "id": "65d23f3f",
   "metadata": {},
   "outputs": [
    {
     "name": "stdout",
     "output_type": "stream",
     "text": [
      "append   clear    copy     \n",
      "count    extend   index    \n",
      "insert   pop      remove   \n",
      "reverse  sort              \n"
     ]
    }
   ],
   "source": [
    "methods = [i for i in dir([]) if i[0].islower()]\n",
    "w =str(len(max(methods,key=len))+2)\n",
    "fmt = ('{:'+w+'s}')*3\n",
    "\n",
    "for fn in zip(*[iter(methods+[''])]*3):\n",
    "    print(fmt.format(*fn))"
   ]
  },
  {
   "cell_type": "markdown",
   "id": "e585ecfa",
   "metadata": {},
   "source": [
    "Print Python Pattern"
   ]
  },
  {
   "cell_type": "code",
   "execution_count": 26,
   "id": "11dd9660",
   "metadata": {},
   "outputs": [
    {
     "name": "stdout",
     "output_type": "stream",
     "text": [
      "\n",
      "P\n",
      "PY\n",
      "PYT\n",
      "PYTH\n",
      "PYTHO\n",
      "PYTHON\n",
      "PYTHONL\n",
      "PYTHONLA\n",
      "PYTHONLAN\n",
      "PYTHONLANG\n",
      "PYTHONLANGU\n",
      "PYTHONLANGUA\n",
      "PYTHONLANGUAG\n",
      "PYTHONLANGUAGE\n",
      "PYTHONLANGUAGE\n",
      "PYTHONLANGUAG\n",
      "PYTHONLANGUA\n",
      "PYTHONLANGU\n",
      "PYTHONLANG\n",
      "PYTHONLAN\n",
      "PYTHONLA\n",
      "PYTHONL\n",
      "PYTHON\n",
      "PYTHO\n",
      "PYTH\n",
      "PYT\n",
      "PY\n",
      "P\n",
      "\n"
     ]
    }
   ],
   "source": [
    "S='PythonLanguage'\n",
    "P=[S.upper()[:i]for i in range(len(S)+1)]\n",
    "print(*(P+P[::-1]), sep='\\n')"
   ]
  },
  {
   "cell_type": "markdown",
   "id": "873e2c8f",
   "metadata": {},
   "source": [
    "Convert to Minute, Hour, Day From Seconds"
   ]
  },
  {
   "cell_type": "code",
   "execution_count": 4,
   "id": "2077de2a",
   "metadata": {},
   "outputs": [
    {
     "name": "stdout",
     "output_type": "stream",
     "text": [
      "Seconds: 0:00:01\n",
      "Minute: 0:01:00\n",
      "Hour: 1:00:00\n",
      "Day: 1 day, 0:00:00\n"
     ]
    }
   ],
   "source": [
    "from datetime import timedelta\n",
    "\n",
    "print('Seconds:', timedelta(seconds=1))\n",
    "print('Minute:', timedelta(seconds=60))\n",
    "print('Hour:', timedelta(seconds=60*60))\n",
    "print('Day:', timedelta(seconds=24*60*60))"
   ]
  },
  {
   "cell_type": "markdown",
   "id": "c02549a6",
   "metadata": {},
   "source": [
    "Number Pattern"
   ]
  },
  {
   "cell_type": "code",
   "execution_count": 3,
   "id": "35fd0002",
   "metadata": {
    "collapsed": true
   },
   "outputs": [
    {
     "ename": "TypeError",
     "evalue": "cannot unpack non-iterable int object",
     "output_type": "error",
     "traceback": [
      "\u001b[1;31m---------------------------------------------------------------------------\u001b[0m",
      "\u001b[1;31mTypeError\u001b[0m                                 Traceback (most recent call last)",
      "\u001b[1;32m~\\AppData\\Local\\Temp\\ipykernel_11464\\1852795249.py\u001b[0m in \u001b[0;36m<module>\u001b[1;34m\u001b[0m\n\u001b[1;32m----> 1\u001b[1;33m \u001b[1;32mfor\u001b[0m \u001b[0mi\u001b[0m\u001b[1;33m,\u001b[0m\u001b[0mj\u001b[0m \u001b[1;32min\u001b[0m \u001b[0mrange\u001b[0m\u001b[1;33m(\u001b[0m\u001b[1;36m1\u001b[0m\u001b[1;33m,\u001b[0m\u001b[1;36m6\u001b[0m\u001b[1;33m)\u001b[0m\u001b[1;33m:\u001b[0m\u001b[1;33m\u001b[0m\u001b[1;33m\u001b[0m\u001b[0m\n\u001b[0m\u001b[0;32m      2\u001b[0m     \u001b[0mprint\u001b[0m\u001b[1;33m(\u001b[0m\u001b[0mstr\u001b[0m\u001b[1;33m(\u001b[0m\u001b[0mj\u001b[0m\u001b[1;33m)\u001b[0m\u001b[1;33m*\u001b[0m\u001b[0mi\u001b[0m\u001b[1;33m)\u001b[0m\u001b[1;33m\u001b[0m\u001b[1;33m\u001b[0m\u001b[0m\n",
      "\u001b[1;31mTypeError\u001b[0m: cannot unpack non-iterable int object"
     ]
    }
   ],
   "source": [
    "for i,j in range(1,6):\n",
    "    print(str(j)*i)"
   ]
  },
  {
   "cell_type": "markdown",
   "id": "88bed7de",
   "metadata": {},
   "source": [
    "Another Pattern"
   ]
  },
  {
   "cell_type": "code",
   "execution_count": 2,
   "id": "9da30fad",
   "metadata": {},
   "outputs": [
    {
     "name": "stdout",
     "output_type": "stream",
     "text": [
      "                   P                    \n",
      "                  PyPy                  \n",
      "               PytPytPyt                \n",
      "            PythPythPythPyth            \n",
      "       PythoPythoPythoPythoPytho        \n",
      "  PythonPythonPythonPythonPythonPython  \n"
     ]
    }
   ],
   "source": [
    "S='Python'\n",
    "P=[S[:i]for i in range(1, len(S)+1)]\n",
    "for i in P:\n",
    "    print(f'{i*(len(i)):^40}')"
   ]
  },
  {
   "cell_type": "markdown",
   "id": "20469089",
   "metadata": {},
   "source": [
    "DocString of Exceptions"
   ]
  },
  {
   "cell_type": "code",
   "execution_count": 1,
   "id": "621eb701",
   "metadata": {
    "collapsed": true
   },
   "outputs": [
    {
     "name": "stdout",
     "output_type": "stream",
     "text": [
      "ArithmeticError ----> <class 'ArithmeticError'>\n",
      "--------------------------------------------------------------------------------\n",
      "AssertionError ----> <class 'AssertionError'>\n",
      "--------------------------------------------------------------------------------\n",
      "AttributeError ----> <class 'AttributeError'>\n",
      "--------------------------------------------------------------------------------\n",
      "BaseException ----> <class 'BaseException'>\n",
      "--------------------------------------------------------------------------------\n",
      "BlockingIOError ----> <class 'BlockingIOError'>\n",
      "--------------------------------------------------------------------------------\n",
      "BrokenPipeError ----> <class 'BrokenPipeError'>\n",
      "--------------------------------------------------------------------------------\n",
      "BufferError ----> <class 'BufferError'>\n",
      "--------------------------------------------------------------------------------\n",
      "BytesWarning ----> <class 'BytesWarning'>\n",
      "--------------------------------------------------------------------------------\n",
      "ChildProcessError ----> <class 'ChildProcessError'>\n",
      "--------------------------------------------------------------------------------\n",
      "ConnectionAbortedError ----> <class 'ConnectionAbortedError'>\n",
      "--------------------------------------------------------------------------------\n",
      "ConnectionError ----> <class 'ConnectionError'>\n",
      "--------------------------------------------------------------------------------\n",
      "ConnectionRefusedError ----> <class 'ConnectionRefusedError'>\n",
      "--------------------------------------------------------------------------------\n",
      "ConnectionResetError ----> <class 'ConnectionResetError'>\n",
      "--------------------------------------------------------------------------------\n",
      "DeprecationWarning ----> <class 'DeprecationWarning'>\n",
      "--------------------------------------------------------------------------------\n",
      "EOFError ----> <class 'EOFError'>\n",
      "--------------------------------------------------------------------------------\n",
      "EnvironmentError ----> <class 'OSError'>\n",
      "--------------------------------------------------------------------------------\n",
      "Exception ----> <class 'Exception'>\n",
      "--------------------------------------------------------------------------------\n",
      "FileExistsError ----> <class 'FileExistsError'>\n",
      "--------------------------------------------------------------------------------\n",
      "FileNotFoundError ----> <class 'FileNotFoundError'>\n",
      "--------------------------------------------------------------------------------\n",
      "FloatingPointError ----> <class 'FloatingPointError'>\n",
      "--------------------------------------------------------------------------------\n",
      "FutureWarning ----> <class 'FutureWarning'>\n",
      "--------------------------------------------------------------------------------\n",
      "GeneratorExit ----> <class 'GeneratorExit'>\n",
      "--------------------------------------------------------------------------------\n",
      "IOError ----> <class 'OSError'>\n",
      "--------------------------------------------------------------------------------\n",
      "ImportError ----> <class 'ImportError'>\n",
      "--------------------------------------------------------------------------------\n",
      "ImportWarning ----> <class 'ImportWarning'>\n",
      "--------------------------------------------------------------------------------\n",
      "IndentationError ----> <class 'IndentationError'>\n",
      "--------------------------------------------------------------------------------\n",
      "IndexError ----> <class 'IndexError'>\n",
      "--------------------------------------------------------------------------------\n",
      "InterruptedError ----> <class 'InterruptedError'>\n",
      "--------------------------------------------------------------------------------\n",
      "IsADirectoryError ----> <class 'IsADirectoryError'>\n",
      "--------------------------------------------------------------------------------\n",
      "KeyError ----> <class 'KeyError'>\n",
      "--------------------------------------------------------------------------------\n",
      "KeyboardInterrupt ----> <class 'KeyboardInterrupt'>\n",
      "--------------------------------------------------------------------------------\n",
      "LookupError ----> <class 'LookupError'>\n",
      "--------------------------------------------------------------------------------\n",
      "MemoryError ----> <class 'MemoryError'>\n",
      "--------------------------------------------------------------------------------\n",
      "ModuleNotFoundError ----> <class 'ModuleNotFoundError'>\n",
      "--------------------------------------------------------------------------------\n",
      "NameError ----> <class 'NameError'>\n",
      "--------------------------------------------------------------------------------\n",
      "NotADirectoryError ----> <class 'NotADirectoryError'>\n",
      "--------------------------------------------------------------------------------\n",
      "NotImplemented ----> NotImplemented\n",
      "--------------------------------------------------------------------------------\n",
      "NotImplementedError ----> <class 'NotImplementedError'>\n",
      "--------------------------------------------------------------------------------\n",
      "OSError ----> <class 'OSError'>\n",
      "--------------------------------------------------------------------------------\n",
      "OverflowError ----> <class 'OverflowError'>\n",
      "--------------------------------------------------------------------------------\n",
      "PendingDeprecationWarning ----> <class 'PendingDeprecationWarning'>\n",
      "--------------------------------------------------------------------------------\n",
      "PermissionError ----> <class 'PermissionError'>\n",
      "--------------------------------------------------------------------------------\n",
      "ProcessLookupError ----> <class 'ProcessLookupError'>\n",
      "--------------------------------------------------------------------------------\n",
      "RecursionError ----> <class 'RecursionError'>\n",
      "--------------------------------------------------------------------------------\n",
      "ReferenceError ----> <class 'ReferenceError'>\n",
      "--------------------------------------------------------------------------------\n",
      "ResourceWarning ----> <class 'ResourceWarning'>\n",
      "--------------------------------------------------------------------------------\n",
      "RuntimeError ----> <class 'RuntimeError'>\n",
      "--------------------------------------------------------------------------------\n",
      "RuntimeWarning ----> <class 'RuntimeWarning'>\n",
      "--------------------------------------------------------------------------------\n",
      "StopAsyncIteration ----> <class 'StopAsyncIteration'>\n",
      "--------------------------------------------------------------------------------\n",
      "StopIteration ----> <class 'StopIteration'>\n",
      "--------------------------------------------------------------------------------\n",
      "SyntaxError ----> <class 'SyntaxError'>\n",
      "--------------------------------------------------------------------------------\n",
      "SyntaxWarning ----> <class 'SyntaxWarning'>\n",
      "--------------------------------------------------------------------------------\n",
      "SystemError ----> <class 'SystemError'>\n",
      "--------------------------------------------------------------------------------\n",
      "SystemExit ----> <class 'SystemExit'>\n",
      "--------------------------------------------------------------------------------\n",
      "TabError ----> <class 'TabError'>\n",
      "--------------------------------------------------------------------------------\n",
      "TimeoutError ----> <class 'TimeoutError'>\n",
      "--------------------------------------------------------------------------------\n",
      "TypeError ----> <class 'TypeError'>\n",
      "--------------------------------------------------------------------------------\n",
      "UnboundLocalError ----> <class 'UnboundLocalError'>\n",
      "--------------------------------------------------------------------------------\n",
      "UnicodeDecodeError ----> <class 'UnicodeDecodeError'>\n",
      "--------------------------------------------------------------------------------\n",
      "UnicodeEncodeError ----> <class 'UnicodeEncodeError'>\n",
      "--------------------------------------------------------------------------------\n",
      "UnicodeError ----> <class 'UnicodeError'>\n",
      "--------------------------------------------------------------------------------\n",
      "UnicodeTranslateError ----> <class 'UnicodeTranslateError'>\n",
      "--------------------------------------------------------------------------------\n",
      "UnicodeWarning ----> <class 'UnicodeWarning'>\n",
      "--------------------------------------------------------------------------------\n",
      "UserWarning ----> <class 'UserWarning'>\n",
      "--------------------------------------------------------------------------------\n",
      "ValueError ----> <class 'ValueError'>\n",
      "--------------------------------------------------------------------------------\n",
      "Warning ----> <class 'Warning'>\n",
      "--------------------------------------------------------------------------------\n",
      "WindowsError ----> <class 'OSError'>\n",
      "--------------------------------------------------------------------------------\n",
      "ZeroDivisionError ----> <class 'ZeroDivisionError'>\n",
      "--------------------------------------------------------------------------------\n"
     ]
    }
   ],
   "source": [
    "import builtins\n",
    "\n",
    "for i in dir(builtins):\n",
    "    if i[0].isupper():\n",
    "        if i not in ['None','False','True','Ellipsis']:\n",
    "            print(i,'---->',getattr(builtins,i))\n",
    "            print('-'*80)"
   ]
  },
  {
   "cell_type": "code",
   "execution_count": null,
   "id": "dbbb0e33",
   "metadata": {},
   "outputs": [],
   "source": []
  }
 ],
 "metadata": {
  "kernelspec": {
   "display_name": "Python 3 (ipykernel)",
   "language": "python",
   "name": "python3"
  },
  "language_info": {
   "codemirror_mode": {
    "name": "ipython",
    "version": 3
   },
   "file_extension": ".py",
   "mimetype": "text/x-python",
   "name": "python",
   "nbconvert_exporter": "python",
   "pygments_lexer": "ipython3",
   "version": "3.9.13"
  }
 },
 "nbformat": 4,
 "nbformat_minor": 5
}
